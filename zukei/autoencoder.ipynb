{
 "cells": [
  {
   "cell_type": "code",
   "execution_count": 1,
   "metadata": {},
   "outputs": [],
   "source": [
    "import glob\n",
    "import random\n",
    "from preprocess import *\n",
    "from torch_geometric.loader import DataLoader\n",
    "\n",
    "labels = {\"circle\": 0, \"square\": 1, \"star\": 2, \"triangle\": 3}\n",
    "\n",
    "dataset = []\n",
    "for label in labels:\n",
    "    image_paths = glob.glob(f\"shapes/{label}/*\")\n",
    "    random.shuffle(image_paths)\n",
    "    for path in image_paths[:800]:\n",
    "        data = create_graph_from_contour(path, labels[label])\n",
    "        dataset.append(data)"
   ]
  },
  {
   "cell_type": "code",
   "execution_count": 2,
   "metadata": {},
   "outputs": [
    {
     "name": "stdout",
     "output_type": "stream",
     "text": [
      "訓練データ数: 2048\n",
      "検証データ数: 512\n",
      "テストデータ数: 640\n"
     ]
    }
   ],
   "source": [
    "from sklearn.model_selection import train_test_split\n",
    "# データセットの分割\n",
    "train_data, test_data = train_test_split(dataset, test_size=0.2, random_state=42)\n",
    "train_data, val_data = train_test_split(train_data, test_size=0.2, random_state=42)\n",
    "\n",
    "# データローダーの作成\n",
    "train_loader = DataLoader(train_data, batch_size=32, shuffle=True)\n",
    "val_loader = DataLoader(val_data, batch_size=32, shuffle=False)\n",
    "test_loader = DataLoader(test_data, batch_size=32, shuffle=False)\n",
    "\n",
    "print(f\"訓練データ数: {len(train_data)}\")\n",
    "print(f\"検証データ数: {len(val_data)}\")\n",
    "print(f\"テストデータ数: {len(test_data)}\")"
   ]
  },
  {
   "cell_type": "markdown",
   "metadata": {},
   "source": [
    "モデル"
   ]
  },
  {
   "cell_type": "code",
   "execution_count": 51,
   "metadata": {},
   "outputs": [],
   "source": [
    "import torch\n",
    "import torch.nn as nn\n",
    "import torch.nn.functional as F\n",
    "from torch_geometric.nn import GraphSAGE\n",
    "from torch_geometric.nn import GCNConv, global_mean_pool\n",
    "from torch_geometric.utils import negative_sampling\n",
    "\n",
    "class Encoder(nn.Module):\n",
    "    def __init__(self, in_channels, hidden_channels, out_channels):\n",
    "        super(Encoder, self).__init__()\n",
    "        # self.conv1 = GraphSAGE(in_channels, hidden_channels, 2)\n",
    "        # self.conv2 = GraphSAGE(hidden_channels, out_channels * 2, 2)\n",
    "        self.conv1 = GCNConv(in_channels, hidden_channels)\n",
    "        self.conv2 = GCNConv(hidden_channels, out_channels * 2)\n",
    "        self.l1 = nn.Linear(out_channels * 2, out_channels)\n",
    "\n",
    "\n",
    "    def forward(self, x, edge_index, batch):\n",
    "        x = self.conv1(x, edge_index)\n",
    "        x = F.relu(x)\n",
    "        x = self.conv2(x, edge_index)\n",
    "        x = F.relu(x)\n",
    "\n",
    "        x = self.l1(x)\n",
    "        x = global_mean_pool(x, batch)\n",
    "        return x\n",
    "\n",
    "class Decoder(nn.Module):\n",
    "    def __init__(self, in_channels, out_channels):\n",
    "        super(Decoder, self).__init__()\n",
    "        self.decoder = nn.Linear(in_channels, out_channels)\n",
    "\n",
    "    def forward(self, z):\n",
    "        return self.decoder(z)\n",
    "\n",
    "class GNNAutoencoder(nn.Module):\n",
    "    def __init__(self, in_channels, hidden_channels, latent_channels):\n",
    "        super(GNNAutoencoder, self).__init__()\n",
    "        self.encoder = Encoder(in_channels, hidden_channels, latent_channels)\n",
    "        self.decoder = Decoder(latent_channels, in_channels)\n",
    "\n",
    "    def forward(self, x, edge_index, batch):\n",
    "        z = self.encoder(x, edge_index, batch)\n",
    "        reconstructed = self.decoder(z)\n",
    "        return reconstructed, z\n",
    "    \n",
    "    def recon_loss(self, x, batch, reconstruct, pos_edge_index, neg_edge_index=None):\n",
    "        x = global_mean_pool(x, batch)\n",
    "        pos_loss = F.mse_loss(x, reconstruct)\n",
    "        \n",
    "        if neg_edge_index is None:\n",
    "            neg_edge_index = negative_sampling(pos_edge_index)\n",
    "        \n",
    "        neg_loss = -torch.log(1 - reconstruct + 1e-15).mean()\n",
    "        \n",
    "        return pos_loss + neg_loss\n",
    "\n",
    "# モデルの初期化\n",
    "in_channels = 2  # 入力特徴量の次元（x, y座標）\n",
    "hidden_channels = 32\n",
    "latent_channels = 2\n",
    "model = GNNAutoencoder(in_channels, hidden_channels, latent_channels)\n",
    "\n",
    "# オプティマイザの設定\n",
    "optimizer = torch.optim.Adam(model.parameters(), lr=0.01)"
   ]
  },
  {
   "cell_type": "markdown",
   "metadata": {},
   "source": [
    "訓練"
   ]
  },
  {
   "cell_type": "code",
   "execution_count": 52,
   "metadata": {},
   "outputs": [
    {
     "name": "stdout",
     "output_type": "stream",
     "text": [
      "Epoch: 002, Train Loss: 0.2544, Test Loss: 0.0080\n",
      "Epoch: 004, Train Loss: 0.2543, Test Loss: 0.0080\n",
      "Epoch: 006, Train Loss: 0.2541, Test Loss: 0.0080\n",
      "Epoch: 008, Train Loss: 0.2541, Test Loss: 0.0080\n",
      "Epoch: 010, Train Loss: 0.2541, Test Loss: 0.0080\n",
      "Epoch: 012, Train Loss: 0.2541, Test Loss: 0.0080\n",
      "Epoch: 014, Train Loss: 0.2541, Test Loss: 0.0080\n",
      "Epoch: 016, Train Loss: 0.2541, Test Loss: 0.0080\n",
      "Epoch: 018, Train Loss: 0.2541, Test Loss: 0.0080\n",
      "Epoch: 020, Train Loss: 0.2541, Test Loss: 0.0080\n",
      "Epoch: 022, Train Loss: 0.2541, Test Loss: 0.0080\n",
      "Epoch: 024, Train Loss: 0.2541, Test Loss: 0.0080\n",
      "Epoch: 026, Train Loss: 0.2541, Test Loss: 0.0080\n",
      "Epoch: 028, Train Loss: 0.2541, Test Loss: 0.0080\n",
      "Epoch: 030, Train Loss: 0.2541, Test Loss: 0.0080\n",
      "Epoch: 032, Train Loss: 0.2541, Test Loss: 0.0080\n",
      "Epoch: 034, Train Loss: 0.2541, Test Loss: 0.0080\n",
      "Epoch: 036, Train Loss: 0.2541, Test Loss: 0.0080\n",
      "Epoch: 038, Train Loss: 0.2541, Test Loss: 0.0080\n",
      "Epoch: 040, Train Loss: 0.2541, Test Loss: 0.0080\n",
      "Epoch: 042, Train Loss: 0.2541, Test Loss: 0.0080\n",
      "Epoch: 044, Train Loss: 0.2541, Test Loss: 0.0080\n",
      "Epoch: 046, Train Loss: 0.2541, Test Loss: 0.0080\n",
      "Epoch: 048, Train Loss: 0.2541, Test Loss: 0.0080\n",
      "Epoch: 050, Train Loss: 0.2541, Test Loss: 0.0080\n",
      "Epoch: 052, Train Loss: 0.2541, Test Loss: 0.0080\n",
      "Epoch: 054, Train Loss: 0.2541, Test Loss: 0.0080\n",
      "Epoch: 056, Train Loss: 0.2541, Test Loss: 0.0080\n",
      "Epoch: 058, Train Loss: 0.2541, Test Loss: 0.0080\n",
      "Epoch: 060, Train Loss: 0.2541, Test Loss: 0.0080\n",
      "Epoch: 062, Train Loss: 0.2541, Test Loss: 0.0080\n",
      "Epoch: 064, Train Loss: 0.2541, Test Loss: 0.0080\n",
      "Epoch: 066, Train Loss: 0.2541, Test Loss: 0.0080\n",
      "Epoch: 068, Train Loss: 0.2541, Test Loss: 0.0080\n",
      "Epoch: 070, Train Loss: 0.2541, Test Loss: 0.0080\n",
      "Epoch: 072, Train Loss: 0.2541, Test Loss: 0.0080\n",
      "Epoch: 074, Train Loss: 0.2541, Test Loss: 0.0080\n",
      "Epoch: 076, Train Loss: 0.2541, Test Loss: 0.0080\n",
      "Epoch: 078, Train Loss: 0.2541, Test Loss: 0.0080\n",
      "Epoch: 080, Train Loss: 0.2541, Test Loss: 0.0080\n",
      "Epoch: 082, Train Loss: 0.2541, Test Loss: 0.0080\n",
      "Epoch: 084, Train Loss: 0.2541, Test Loss: 0.0080\n",
      "Epoch: 086, Train Loss: 0.2541, Test Loss: 0.0080\n",
      "Epoch: 088, Train Loss: 0.2541, Test Loss: 0.0080\n",
      "Epoch: 090, Train Loss: 0.2541, Test Loss: 0.0080\n",
      "Epoch: 092, Train Loss: 0.2541, Test Loss: 0.0080\n",
      "Epoch: 094, Train Loss: 0.2541, Test Loss: 0.0080\n",
      "Epoch: 096, Train Loss: 0.2541, Test Loss: 0.0080\n",
      "Epoch: 098, Train Loss: 0.2541, Test Loss: 0.0080\n",
      "Epoch: 100, Train Loss: 0.2541, Test Loss: 0.0080\n",
      "Latent representation shape: torch.Size([32, 2])\n"
     ]
    }
   ],
   "source": [
    "# 訓練ループ\n",
    "def train(model, optimizer):\n",
    "    model.train()\n",
    "\n",
    "    total_loss = 0\n",
    "    for data in train_loader:\n",
    "        optimizer.zero_grad()\n",
    "        reconstructed, z = model(data.x, data.edge_index, data.batch)\n",
    "        # loss = F.mse_loss(reconstructed, data.x)\n",
    "        loss = model.recon_loss(data.x, data.batch, reconstructed, data.edge_index)\n",
    "        loss.backward()\n",
    "        optimizer.step()\n",
    "        total_loss += loss.item()\n",
    "    return total_loss / len(train_loader)\n",
    "\n",
    "# 評価関数\n",
    "def test(model, loader):\n",
    "    model.eval()\n",
    "\n",
    "    total_loss = 0\n",
    "    for data in loader:\n",
    "        with torch.no_grad():\n",
    "            reconstructed, z = model(data.x, data.edge_index, data.batch)\n",
    "            # loss = F.mse_loss(reconstructed, data.x)\n",
    "            loss = model.recon_loss(data.x, data.batch, reconstructed, data.edge_index)\n",
    "            total_loss += loss.item()\n",
    "    return total_loss / len(loader.dataset), z\n",
    "\n",
    "# 訓練の実行\n",
    "num_epochs = 100\n",
    "for epoch in range(num_epochs):\n",
    "    loss = train(model, optimizer)\n",
    "    if (epoch + 1) % 2 == 0:\n",
    "        test_loss, _ = test(model, val_loader)\n",
    "        print(f'Epoch: {epoch+1:03d}, Train Loss: {loss:.4f}, Test Loss: {test_loss:.4f}')\n",
    "\n",
    "# 最終的な潜在表現の取得\n",
    "_, latent_representation = test(model, val_loader)\n",
    "print(\"Latent representation shape:\", latent_representation.shape)"
   ]
  },
  {
   "cell_type": "code",
   "execution_count": 148,
   "metadata": {},
   "outputs": [],
   "source": [
    "test_data = []\n",
    "for label in labels:\n",
    "    image_paths = glob.glob(f\"shapes/circle/*\")\n",
    "    for path in image_paths[600:610]:\n",
    "        data = create_graph_from_contour(path, labels[label])\n",
    "        test_data.append(data)"
   ]
  },
  {
   "cell_type": "code",
   "execution_count": 209,
   "metadata": {},
   "outputs": [],
   "source": [
    "test_data = [\n",
    "\tcreate_graph_from_contour(\"shikaku.png\", 1),\n",
    "\tcreate_graph_from_contour(\"circle.png\", 0),\n",
    "\tcreate_graph_from_contour(\"star.png\", 2),\n",
    "\tcreate_graph_from_contour(\"triangle.png\", 3)\n",
    "]"
   ]
  },
  {
   "cell_type": "code",
   "execution_count": 45,
   "metadata": {},
   "outputs": [],
   "source": [
    "test_data = [\n",
    "\tcreate_graph_from_contour(\"ori_c.png\", 0),\n",
    "\tcreate_graph_from_contour(\"ori_sq.png\", 1),\n",
    "\tcreate_graph_from_contour(\"ori_star.png\", 2),\n",
    "\tcreate_graph_from_contour(\"ori_t.png\", 3),\n",
    "]"
   ]
  },
  {
   "cell_type": "code",
   "execution_count": 53,
   "metadata": {},
   "outputs": [
    {
     "name": "stdout",
     "output_type": "stream",
     "text": [
      "[[0.00951601 0.02261642]]\n"
     ]
    },
    {
     "data": {
      "image/png": "[encoded data removed]",
      "text/plain": [
       "<Figure size 1200x600 with 2 Axes>"
      ]
     },
     "metadata": {},
     "output_type": "display_data"
    }
   ],
   "source": [
    "import matplotlib.pyplot as plt\n",
    "\n",
    "# 再構成と可視化の関数\n",
    "def reconstruct_and_visualize(model, data, original_shape):\n",
    "    model.eval()\n",
    "    with torch.no_grad():\n",
    "        reconstructed, _ = model(data.x, data.edge_index, data.batch)\n",
    "    \n",
    "    # 元のデータと再構成されたデータをnumpy配列に変換\n",
    "    original = data.x.numpy()\n",
    "    reconstructed = reconstructed.numpy()\n",
    "    print(reconstructed)\n",
    "    \n",
    "    # 元の形状に戻す\n",
    "    original = original.reshape(original_shape)\n",
    "    \n",
    "    # 可視化\n",
    "    fig, (ax1, ax2) = plt.subplots(1, 2, figsize=(12, 6))\n",
    "    \n",
    "    ax1.plot(original[:, 0], original[:, 1], 'b-')\n",
    "    ax1.set_title('Original Contour')\n",
    "    ax1.set_aspect('equal')\n",
    "    \n",
    "    ax2.plot(reconstructed[:, 0], reconstructed[:, 1], 'r-')\n",
    "    ax2.set_title('Reconstructed Contour')\n",
    "    ax2.set_aspect('equal')\n",
    "    \n",
    "    plt.tight_layout()\n",
    "    plt.show()\n",
    "\n",
    "# 使用例\n",
    "# data はPyTorch Geometric のData オブジェクト\n",
    "# original_shape は元の輪郭データの形状 (例: (100, 2) - 100点の x, y 座標)\n",
    "i = 2\n",
    "reconstruct_and_visualize(model, test_data[i], original_shape=test_data[i].x.shape)"
   ]
  },
  {
   "cell_type": "code",
   "execution_count": 142,
   "metadata": {},
   "outputs": [
    {
     "data": {
      "text/plain": [
       "tensor([[0.5140, 0.0000],\n",
       "        [0.0280, 0.7228],\n",
       "        [0.0000, 0.8515],\n",
       "        [0.9813, 1.0000],\n",
       "        [1.0000, 0.9010],\n",
       "        [0.6449, 0.1089]])"
      ]
     },
     "execution_count": 142,
     "metadata": {},
     "output_type": "execute_result"
    }
   ],
   "source": [
    "i = 3\n",
    "test_data[i].x"
   ]
  },
  {
   "cell_type": "code",
   "execution_count": 143,
   "metadata": {},
   "outputs": [
    {
     "name": "stdout",
     "output_type": "stream",
     "text": [
      "tensor([[-0.0037,  0.3343],\n",
      "        [ 0.2430,  0.5740],\n",
      "        [ 0.5684,  0.8327],\n",
      "        [ 0.8876,  0.7576],\n",
      "        [ 0.7559,  0.6683],\n",
      "        [ 0.6928,  0.0871]])\n"
     ]
    }
   ],
   "source": [
    "with torch.no_grad():\n",
    "        reconstructed, _ = model(test_data[i].x, test_data[i].edge_index)\n",
    "        print(reconstructed)"
   ]
  },
  {
   "cell_type": "markdown",
   "metadata": {},
   "source": [
    "## 類似度を求めよう"
   ]
  },
  {
   "cell_type": "code",
   "execution_count": 234,
   "metadata": {},
   "outputs": [
    {
     "data": {
      "text/plain": [
       "tensor([[ 0.4518, -0.1711],\n",
       "        [ 0.7667, -0.2000],\n",
       "        [ 0.8830,  0.0237],\n",
       "        [ 0.7741,  0.4889],\n",
       "        [ 0.4163,  1.1033],\n",
       "        [-0.1545,  1.7013],\n",
       "        [-0.7992,  2.0785],\n",
       "        [-1.1803,  1.9658],\n",
       "        [-1.1568,  1.4143],\n",
       "        [-0.9129,  0.8312],\n",
       "        [-0.5726,  0.3966],\n",
       "        [-0.0728,  0.0536]])"
      ]
     },
     "execution_count": 234,
     "metadata": {},
     "output_type": "execute_result"
    }
   ],
   "source": [
    "_, latent_representation = test(model, test_data[1])\n",
    "latent_representation"
   ]
  },
  {
   "cell_type": "code",
   "execution_count": 232,
   "metadata": {},
   "outputs": [
    {
     "data": {
      "text/plain": [
       "array([[ 0.4438531 ,  0.236949  ],\n",
       "       [ 0.7523881 ,  0.23326537],\n",
       "       [ 0.74210966,  0.37979308],\n",
       "       [ 0.4254293 ,  0.90177155],\n",
       "       [ 0.13075098,  1.3825372 ],\n",
       "       [-0.2898983 ,  1.7098664 ],\n",
       "       [-0.67531276,  1.8579142 ],\n",
       "       [-0.84192145,  1.6146212 ],\n",
       "       [-1.0397229 ,  1.3400116 ],\n",
       "       [-0.9530673 ,  1.1447217 ],\n",
       "       [-0.4272398 ,  0.6909547 ],\n",
       "       [ 0.02204838,  0.16140103],\n",
       "       [ 0.22150597,  0.06727308]], dtype=float32)"
      ]
     },
     "execution_count": 232,
     "metadata": {},
     "output_type": "execute_result"
    }
   ],
   "source": [
    "latents = []\n",
    "for data in test_loader:\n",
    "\tlatent = test(model, data)\n",
    "\t"
   ]
  }
 ],
 "metadata": {
  "kernelspec": {
   "display_name": "kenkyu_GNN",
   "language": "python",
   "name": "python3"
  },
  "language_info": {
   "codemirror_mode": {
    "name": "ipython",
    "version": 3
   },
   "file_extension": ".py",
   "mimetype": "text/x-python",
   "name": "python",
   "nbconvert_exporter": "python",
   "pygments_lexer": "ipython3",
   "version": "3.10.8"
  }
 },
 "nbformat": 4,
 "nbformat_minor": 2
}
