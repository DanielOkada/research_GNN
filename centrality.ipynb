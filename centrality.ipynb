{
 "cells": [
  {
   "cell_type": "markdown",
   "metadata": {},
   "source": [
    "# 中心性を求める"
   ]
  },
  {
   "cell_type": "code",
   "execution_count": 1,
   "metadata": {},
   "outputs": [],
   "source": [
    "import networkx as nx\n",
    "\n",
    "graphml_file = 'data/kanagawa_yakuin.graphml'\n",
    "\n",
    "# GraphMLファイルの読み込み\n",
    "G = nx.read_graphml(graphml_file)"
   ]
  },
  {
   "cell_type": "code",
   "execution_count": 13,
   "metadata": {},
   "outputs": [],
   "source": [
    "degree = nx.degree_centrality(G)\n",
    "betweenness = nx.betweenness_centrality(G)\n",
    "closeness_centrality = nx.closeness_centrality(G)\n",
    "eigenvector_centrality = nx.eigenvector_centrality(G)\n",
    "pagerank = nx.pagerank(G)\n",
    "k_shell = nx.core_number(G)"
   ]
  },
  {
   "cell_type": "code",
   "execution_count": 16,
   "metadata": {},
   "outputs": [],
   "source": [
    "def get_ranking(dic, k=10):\n",
    "\treturn sorted(dic.items(), key=lambda item: item[1], reverse=True)[:k]"
   ]
  },
  {
   "cell_type": "code",
   "execution_count": 10,
   "metadata": {},
   "outputs": [
    {
     "data": {
      "text/plain": [
       "[('渡邊福三郎', 0.08370535714285714),\n",
       " ('木村利右衛門', 0.07142857142857142),\n",
       " ('若尾幾造', 0.06808035714285714),\n",
       " ('茂木保平', 0.05915178571428571),\n",
       " ('原六郎', 0.056919642857142856),\n",
       " ('相馬永胤', 0.049107142857142856),\n",
       " ('三崎龜之助', 0.049107142857142856),\n",
       " ('園田孝吉', 0.049107142857142856),\n",
       " ('若尾逸平', 0.049107142857142856),\n",
       " ('中井芳楠', 0.049107142857142856),\n",
       " ('田島信夫', 0.049107142857142856),\n",
       " ('戸次兵吉', 0.049107142857142856),\n",
       " ('宮川久次郎', 0.049107142857142856),\n",
       " ('三澤恭哉', 0.049107142857142856),\n",
       " ('市川亮功', 0.049107142857142856),\n",
       " ('高橋正信', 0.049107142857142856),\n",
       " ('澤井宗之', 0.049107142857142856),\n",
       " ('乗竹孝太郎', 0.049107142857142856),\n",
       " ('松居十三郎', 0.049107142857142856),\n",
       " ('山川勇木', 0.049107142857142856)]"
      ]
     },
     "execution_count": 10,
     "metadata": {},
     "output_type": "execute_result"
    }
   ],
   "source": [
    "# 次数中心性ランキング\n",
    "sorted(degree.items(), key=lambda item: item[1], reverse=True)[:20]"
   ]
  },
  {
   "cell_type": "code",
   "execution_count": 8,
   "metadata": {},
   "outputs": [
    {
     "data": {
      "text/plain": [
       "[('田沼太右衛門', 0.07393335145213606),\n",
       " ('石川長次郎', 0.0320892358339984),\n",
       " ('渡邊福三郎', 0.03089998521263053),\n",
       " ('若尾幾造', 0.029237584337585665),\n",
       " ('山口左七郎', 0.029085195530726256),\n",
       " ('天野藤三', 0.025962689545091778),\n",
       " ('木村利右衛門', 0.02205817285513254),\n",
       " ('茂木保平', 0.02180135394397917),\n",
       " ('岡田寅吉', 0.02052947924980048),\n",
       " ('佐藤嘉助', 0.020446761106677393)]"
      ]
     },
     "execution_count": 8,
     "metadata": {},
     "output_type": "execute_result"
    }
   ],
   "source": [
    "# 媒介中心性ランキング\n",
    "sorted(betweenness.items(), key=lambda item: item[1], reverse=True)[:10]"
   ]
  },
  {
   "cell_type": "code",
   "execution_count": 12,
   "metadata": {},
   "outputs": [
    {
     "data": {
      "text/plain": [
       "[('田沼太右衛門', 0.14797212320095948),\n",
       " ('若尾幾造', 0.14526201105442177),\n",
       " ('渡邊福三郎', 0.1448640329419439),\n",
       " ('金子政吉', 0.14175702955444913),\n",
       " ('木村利右衛門', 0.14025297619047616),\n",
       " ('平沼專藏', 0.13352366672679172),\n",
       " ('原富太郎', 0.13251972938298126),\n",
       " ('安部幸兵衛', 0.1312043970814132),\n",
       " ('野田半七', 0.12991491897741897),\n",
       " ('高橋嘉兵衛', 0.12959650005835668)]"
      ]
     },
     "execution_count": 12,
     "metadata": {},
     "output_type": "execute_result"
    }
   ],
   "source": [
    "# 近接中心性ランキング\n",
    "sorted(closeness_centrality.items(), key=lambda item: item[1], reverse=True)[:10]"
   ]
  },
  {
   "cell_type": "code",
   "execution_count": 17,
   "metadata": {},
   "outputs": [
    {
     "data": {
      "text/plain": [
       "[('渡邊福三郎', 0.1534158361398271),\n",
       " ('木村利右衛門', 0.15213334565075354),\n",
       " ('原六郎', 0.1493590322670917),\n",
       " ('相馬永胤', 0.14873755855775433),\n",
       " ('三崎龜之助', 0.14873755855775433),\n",
       " ('園田孝吉', 0.14873755855775433),\n",
       " ('若尾逸平', 0.14873755855775433),\n",
       " ('中井芳楠', 0.14873755855775433),\n",
       " ('田島信夫', 0.14873755855775433),\n",
       " ('戸次兵吉', 0.14873755855775433)]"
      ]
     },
     "execution_count": 17,
     "metadata": {},
     "output_type": "execute_result"
    }
   ],
   "source": [
    "# 固有\n",
    "get_ranking(eigenvector_centrality)"
   ]
  },
  {
   "cell_type": "code",
   "execution_count": 18,
   "metadata": {},
   "outputs": [
    {
     "data": {
      "text/plain": [
       "[('若尾幾造', 0.003943214899390988),\n",
       " ('茂木保平', 0.003530834727480411),\n",
       " ('渡邊福三郎', 0.0033447676747735107),\n",
       " ('平沼專藏', 0.002837939770710683),\n",
       " ('木村利右衛門', 0.002676538773399217),\n",
       " ('大谷嘉兵衛', 0.0025148651439289007),\n",
       " ('淸水源右衛門', 0.0024797753393041716),\n",
       " ('原富太郎', 0.002423650332642453),\n",
       " ('長井利右衛門', 0.002337711913246808),\n",
       " ('朝田又七', 0.0023073711332894263)]"
      ]
     },
     "execution_count": 18,
     "metadata": {},
     "output_type": "execute_result"
    }
   ],
   "source": [
    "# ページランク\n",
    "get_ranking(pagerank)"
   ]
  },
  {
   "cell_type": "code",
   "execution_count": 19,
   "metadata": {},
   "outputs": [
    {
     "data": {
      "text/plain": [
       "[('相馬永胤', 44),\n",
       " ('三崎龜之助', 44),\n",
       " ('園田孝吉', 44),\n",
       " ('木村利右衛門', 44),\n",
       " ('原六郎', 44),\n",
       " ('若尾逸平', 44),\n",
       " ('中井芳楠', 44),\n",
       " ('田島信夫', 44),\n",
       " ('渡邊福三郎', 44),\n",
       " ('戸次兵吉', 44)]"
      ]
     },
     "execution_count": 19,
     "metadata": {},
     "output_type": "execute_result"
    }
   ],
   "source": [
    "# k-シェル\n",
    "get_ranking(k_shell)"
   ]
  },
  {
   "cell_type": "code",
   "execution_count": null,
   "metadata": {},
   "outputs": [],
   "source": [
    "# 県史に載っている人\n",
    "yakuin_in_kenshi = [\n",
    "\t\"渡邊福三郎\",\n",
    "\t\"木村利右衛門\",\n",
    "\t\"若尾幾造\",\n",
    "]"
   ]
  },
  {
   "cell_type": "code",
   "execution_count": null,
   "metadata": {},
   "outputs": [],
   "source": [
    "# 中心性が高いのに載っていない人\n",
    "[\n",
    "\t\"相馬永胤\", # 重要そう\n",
    "\t\"三崎龜之助\", # 重要そう\n",
    "\t\"中井芳楠\", # あまり重要ではなさそう\n",
    "]"
   ]
  },
  {
   "cell_type": "markdown",
   "metadata": {},
   "source": [
    "## 2部グラフ"
   ]
  },
  {
   "cell_type": "code",
   "execution_count": 20,
   "metadata": {},
   "outputs": [],
   "source": [
    "import networkx as nx\n",
    "\n",
    "graphml_file = 'data/kanagawa.graphml'\n",
    "\n",
    "# GraphMLファイルの読み込み\n",
    "G = nx.read_graphml(graphml_file)"
   ]
  },
  {
   "cell_type": "code",
   "execution_count": 21,
   "metadata": {},
   "outputs": [],
   "source": [
    "degree = nx.degree_centrality(G)\n",
    "betweenness = nx.betweenness_centrality(G)\n",
    "closeness_centrality = nx.closeness_centrality(G)\n",
    "eigenvector_centrality = nx.eigenvector_centrality(G)\n",
    "pagerank = nx.pagerank(G)\n",
    "k_shell = nx.core_number(G)"
   ]
  },
  {
   "cell_type": "code",
   "execution_count": 24,
   "metadata": {},
   "outputs": [],
   "source": [
    "# 役員だけにする\n",
    "def extract_yakuin(G_yakuin, original_dict):\n",
    "\t# 残したいキーのリスト\n",
    "\tkeys_to_keep = G_yakuin.nodes\n",
    "\n",
    "\t# フィルター処理\n",
    "\tfiltered_dict = {key: original_dict[key] for key in keys_to_keep if key in original_dict}\n",
    "\treturn filtered_dict"
   ]
  },
  {
   "cell_type": "code",
   "execution_count": 26,
   "metadata": {},
   "outputs": [],
   "source": [
    "graphml_file = 'data/kanagawa_yakuin.graphml'\n",
    "G_yakuin = nx.read_graphml(graphml_file)\n",
    "\n",
    "degree = extract_yakuin(G_yakuin, degree)\n",
    "betweenness = extract_yakuin(G_yakuin, betweenness)"
   ]
  },
  {
   "cell_type": "code",
   "execution_count": 27,
   "metadata": {},
   "outputs": [
    {
     "data": {
      "text/plain": [
       "[('若尾幾造', 0.007469654528478058),\n",
       " ('平沼專藏', 0.006535947712418301),\n",
       " ('茂木保平', 0.0056022408963585435),\n",
       " ('渡邊福三郎', 0.004668534080298786),\n",
       " ('木村利右衛門', 0.003734827264239029),\n",
       " ('大谷嘉兵衛', 0.003734827264239029),\n",
       " ('長井利右衛門', 0.003734827264239029),\n",
       " ('原富太郎', 0.003734827264239029),\n",
       " ('朝田又七', 0.003734827264239029),\n",
       " ('森山金輔', 0.003734827264239029)]"
      ]
     },
     "execution_count": 27,
     "metadata": {},
     "output_type": "execute_result"
    }
   ],
   "source": [
    "# 次数中心性ランキング\n",
    "get_ranking(degree)"
   ]
  },
  {
   "cell_type": "code",
   "execution_count": 28,
   "metadata": {},
   "outputs": [
    {
     "data": {
      "text/plain": [
       "[('田沼太右衛門', 0.07067143070434345),\n",
       " ('若尾幾造', 0.031153408426487658),\n",
       " ('石川長次郎', 0.03089784200284475),\n",
       " ('山口左七郎', 0.027923942162534795),\n",
       " ('渡邊福三郎', 0.027473530835753945),\n",
       " ('天野藤三', 0.02473886750962067),\n",
       " ('茂木保平', 0.023269444446638216),\n",
       " ('平沼專藏', 0.02096893835726845),\n",
       " ('木村利右衛門', 0.020250787458389784),\n",
       " ('岡田寅吉', 0.01958864542701816)]"
      ]
     },
     "execution_count": 28,
     "metadata": {},
     "output_type": "execute_result"
    }
   ],
   "source": [
    "get_ranking(betweenness)"
   ]
  }
 ],
 "metadata": {
  "kernelspec": {
   "display_name": "kenkyu_GNN",
   "language": "python",
   "name": "python3"
  },
  "language_info": {
   "codemirror_mode": {
    "name": "ipython",
    "version": 3
   },
   "file_extension": ".py",
   "mimetype": "text/x-python",
   "name": "python",
   "nbconvert_exporter": "python",
   "pygments_lexer": "ipython3",
   "version": "3.10.8"
  }
 },
 "nbformat": 4,
 "nbformat_minor": 2
}
